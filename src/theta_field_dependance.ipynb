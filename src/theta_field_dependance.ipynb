{
 "cells": [
  {
   "cell_type": "markdown",
   "metadata": {},
   "source": [
    "### Combining Everything from `workbook.ipynb`"
   ]
  },
  {
   "cell_type": "code",
   "execution_count": 1,
   "metadata": {},
   "outputs": [],
   "source": [
    "import pandas as pd\n",
    "import numpy as np\n",
    "from matplotlib import pyplot as plt\n",
    "from scipy.optimize import curve_fit\n",
    "from scipy.stats import linregress\n",
    "import os"
   ]
  },
  {
   "cell_type": "code",
   "execution_count": 9,
   "metadata": {},
   "outputs": [],
   "source": [
    "def fit_function(x, *params, E_c=100):\n",
    "    \"\"\"\n",
    "    This function defines the mathmatecal function we want to fit the data to. In our case this is E = E_c * (I/I_c)^n.\n",
    "    Parameters are I_c and n. E_c is set to the critical electric field criterion. \n",
    "    \"\"\"\n",
    "    I_c, n = params \n",
    "    return E_c * (x/I_c)**n\n",
    "\n",
    "def power_fitting(xdata, ydata):\n",
    "    \"\"\"\n",
    "    Fits the function defined in fit_function().\n",
    "\n",
    "    arguments:\n",
    "    ----------\n",
    "    - xdata \n",
    "    - ydata\n",
    "    - E_c - Electric Field Criterion for Critical Current\n",
    "\n",
    "    returns:\n",
    "    --------\n",
    "    - I_c - critical current\n",
    "    - n - exponent of (I/I_c)^n\n",
    "    - popt - all parameters from scipy.optimize.curve_fit\n",
    "    \"\"\"\n",
    "\n",
    "    # Initial Guesses\n",
    "    guess = [30, 20]\n",
    "\n",
    "    try:\n",
    "        popt, pcov = curve_fit(fit_function, xdata, ydata, p0=guess, ) # can add maxfev=5000\n",
    "    except RuntimeError as e:\n",
    "        print('Fit did not converge:', e)\n",
    "    print(popt)\n",
    "    I_c = popt[0]\n",
    "    n = popt[1]\n",
    "\n",
    "    return I_c, n, popt\n",
    "\n",
    "# Iterate through files in specified directory #\n",
    "def Analyse_Directory_PowerLawFit(directory):\n",
    "    \n",
    "    # Building a dataframe (table), each row is the analysis of one file in the directory\n",
    "    rows = []\n",
    "    for filename in os.listdir(directory):\n",
    "        try:\n",
    "            file_string = os.path.join(directory, filename).replace('\\\\','/')   # example string: 'data/P1_B1_Idefault_Ndefault.mat'\n",
    "            df = pd.read_csv(file_string, skiprows=11, names=['current_A','voltage_uV','time_s'], sep='\\\\s+')\n",
    "        except:\n",
    "            print(f\"Error: Cannot load {file_string}.\")\n",
    "            continue\n",
    "        print(file_string)\n",
    "        # Extract metadata from filename\n",
    "        filename_split = file_string.split(\"_\")\n",
    "        angle = float(filename_split[-2])\n",
    "        field = float(filename_split[-4])\n",
    "\n",
    "        df['Efield_uVm-1'] = df['voltage_uV']/(1.4e-2) # Creating a new column for Electric field\n",
    "\n",
    "        # Linear Fitting to half the data\n",
    "        half = round(len(df)*0.5) # Finds the row index halfway through the data (usually around I = 18A)\n",
    "        slope, intercept = linregress(df[:half]['current_A'], df[:half]['Efield_uVm-1'])[0:2] \n",
    "        linear_yvalues = df['current_A']*slope + intercept # The y-values of the linear fit extrapolated to the whole range of data that we will subtract from our data. \n",
    "        \n",
    "        # Power Law Fitting to Cleaned Data (linear fit subtracted)\n",
    "        xdata = df['current_A']\n",
    "        ydata_clean = df['Efield_uVm-1'] - linear_yvalues\n",
    "        I_c, n, popt = power_fitting(xdata, ydata_clean)\n",
    "\n",
    "        # Append the analysis of this file to the dataset\n",
    "        row = [angle, field, I_c, n]\n",
    "        rows.append(row)\n",
    "\n",
    "    columns=['angle', 'field', 'I_c', 'n']\n",
    "    df_directory = pd.DataFrame(rows, columns=columns)\n",
    "    return df_directory"
   ]
  },
  {
   "cell_type": "code",
   "execution_count": 12,
   "metadata": {},
   "outputs": [
    {
     "name": "stdout",
     "output_type": "stream",
     "text": [
      "data/theta180/Measurement_5_0.00_Field_180_Angle.csv\n",
      "[71.34946074 22.22349284]\n",
      "data/theta180/Measurement_5_0.02_Field_180_Angle.csv\n",
      "[62.01485637 15.74514893]\n",
      "data/theta180/Measurement_5_0.04_Field_180_Angle.csv\n",
      "[52.47387782 13.88885418]\n",
      "data/theta180/Measurement_5_0.06_Field_180_Angle.csv\n",
      "[46.24534755 13.06049193]\n",
      "data/theta180/Measurement_5_0.08_Field_180_Angle.csv\n",
      "[41.96242101 12.02266464]\n",
      "data/theta180/Measurement_5_0.10_Field_180_Angle.csv\n",
      "[40.64911024 12.98151468]\n",
      "data/theta180/Measurement_5_0.20_Field_180_Angle.csv\n",
      "[32.50350149 11.72418117]\n",
      "data/theta180/Measurement_5_0.30_Field_180_Angle.csv\n",
      "[27.53620898 10.01894792]\n",
      "data/theta180/Measurement_5_0.40_Field_180_Angle.csv\n",
      "[26.48486298 11.08569706]\n",
      "data/theta180/Measurement_5_0.50_Field_180_Angle.csv\n",
      "Fit did not converge: Optimal parameters not found: Number of calls to function has reached maxfev = 600.\n"
     ]
    },
    {
     "ename": "UnboundLocalError",
     "evalue": "cannot access local variable 'popt' where it is not associated with a value",
     "output_type": "error",
     "traceback": [
      "\u001b[1;31m---------------------------------------------------------------------------\u001b[0m",
      "\u001b[1;31mUnboundLocalError\u001b[0m                         Traceback (most recent call last)",
      "Cell \u001b[1;32mIn[12], line 5\u001b[0m\n\u001b[0;32m      1\u001b[0m \u001b[38;5;66;03m# df_Ic_0 = Analyse_Directory_PowerLawFit('data/theta0/')\u001b[39;00m\n\u001b[0;32m      2\u001b[0m \u001b[38;5;66;03m# df_Ic_45 = Analyse_Directory_PowerLawFit('data/theta45/')\u001b[39;00m\n\u001b[0;32m      3\u001b[0m \u001b[38;5;66;03m# df_Ic_90 = Analyse_Directory_PowerLawFit('data/theta90/')\u001b[39;00m\n\u001b[0;32m      4\u001b[0m \u001b[38;5;66;03m# df_Ic_135 = Analyse_Directory_PowerLawFit('data/theta135/')\u001b[39;00m\n\u001b[1;32m----> 5\u001b[0m df_Ic_180 \u001b[38;5;241m=\u001b[39m \u001b[43mAnalyse_Directory_PowerLawFit\u001b[49m\u001b[43m(\u001b[49m\u001b[38;5;124;43m'\u001b[39;49m\u001b[38;5;124;43mdata/theta180/\u001b[39;49m\u001b[38;5;124;43m'\u001b[39;49m\u001b[43m)\u001b[49m\n\u001b[0;32m      7\u001b[0m \u001b[38;5;66;03m# df_all = pd.concat([df_Ic_0, df_Ic_45, df_Ic_90, df_Ic_135, df_Ic_180])\u001b[39;00m\n\u001b[0;32m      8\u001b[0m \u001b[38;5;66;03m# df_all\u001b[39;00m\n\u001b[0;32m      9\u001b[0m df_Ic_180\n",
      "Cell \u001b[1;32mIn[9], line 67\u001b[0m, in \u001b[0;36mAnalyse_Directory_PowerLawFit\u001b[1;34m(directory)\u001b[0m\n\u001b[0;32m     65\u001b[0m xdata \u001b[38;5;241m=\u001b[39m df[\u001b[38;5;124m'\u001b[39m\u001b[38;5;124mcurrent_A\u001b[39m\u001b[38;5;124m'\u001b[39m]\n\u001b[0;32m     66\u001b[0m ydata_clean \u001b[38;5;241m=\u001b[39m df[\u001b[38;5;124m'\u001b[39m\u001b[38;5;124mEfield_uVm-1\u001b[39m\u001b[38;5;124m'\u001b[39m] \u001b[38;5;241m-\u001b[39m linear_yvalues\n\u001b[1;32m---> 67\u001b[0m I_c, n, popt \u001b[38;5;241m=\u001b[39m \u001b[43mpower_fitting\u001b[49m\u001b[43m(\u001b[49m\u001b[43mxdata\u001b[49m\u001b[43m,\u001b[49m\u001b[43m \u001b[49m\u001b[43mydata_clean\u001b[49m\u001b[43m)\u001b[49m\n\u001b[0;32m     69\u001b[0m \u001b[38;5;66;03m# Append the analysis of this file to the dataset\u001b[39;00m\n\u001b[0;32m     70\u001b[0m row \u001b[38;5;241m=\u001b[39m [angle, field, I_c, n]\n",
      "Cell \u001b[1;32mIn[9], line 33\u001b[0m, in \u001b[0;36mpower_fitting\u001b[1;34m(xdata, ydata)\u001b[0m\n\u001b[0;32m     31\u001b[0m \u001b[38;5;28;01mexcept\u001b[39;00m \u001b[38;5;167;01mRuntimeError\u001b[39;00m \u001b[38;5;28;01mas\u001b[39;00m e:\n\u001b[0;32m     32\u001b[0m     \u001b[38;5;28mprint\u001b[39m(\u001b[38;5;124m'\u001b[39m\u001b[38;5;124mFit did not converge:\u001b[39m\u001b[38;5;124m'\u001b[39m, e)\n\u001b[1;32m---> 33\u001b[0m \u001b[38;5;28mprint\u001b[39m(\u001b[43mpopt\u001b[49m)\n\u001b[0;32m     34\u001b[0m I_c \u001b[38;5;241m=\u001b[39m popt[\u001b[38;5;241m0\u001b[39m]\n\u001b[0;32m     35\u001b[0m n \u001b[38;5;241m=\u001b[39m popt[\u001b[38;5;241m1\u001b[39m]\n",
      "\u001b[1;31mUnboundLocalError\u001b[0m: cannot access local variable 'popt' where it is not associated with a value"
     ]
    }
   ],
   "source": [
    "# df_Ic_0 = Analyse_Directory_PowerLawFit('data/theta0/')\n",
    "# df_Ic_45 = Analyse_Directory_PowerLawFit('data/theta45/')\n",
    "# df_Ic_90 = Analyse_Directory_PowerLawFit('data/theta90/')\n",
    "# df_Ic_135 = Analyse_Directory_PowerLawFit('data/theta135/')\n",
    "df_Ic_180 = Analyse_Directory_PowerLawFit('data/theta180/')\n",
    "\n",
    "# df_all = pd.concat([df_Ic_0, df_Ic_45, df_Ic_90, df_Ic_135, df_Ic_180])\n",
    "# df_all\n",
    "df_Ic_180"
   ]
  },
  {
   "cell_type": "code",
   "execution_count": null,
   "metadata": {},
   "outputs": [],
   "source": []
  }
 ],
 "metadata": {
  "kernelspec": {
   "display_name": ".venv",
   "language": "python",
   "name": "python3"
  },
  "language_info": {
   "codemirror_mode": {
    "name": "ipython",
    "version": 3
   },
   "file_extension": ".py",
   "mimetype": "text/x-python",
   "name": "python",
   "nbconvert_exporter": "python",
   "pygments_lexer": "ipython3",
   "version": "3.13.1"
  }
 },
 "nbformat": 4,
 "nbformat_minor": 2
}
