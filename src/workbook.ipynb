{
 "cells": [
  {
   "cell_type": "markdown",
   "metadata": {},
   "source": [
    "# Analysing Superconductivity Measurements\n",
    "Team: Ryan E, Ryan S, Charlie, Lin\n",
    "\n",
    "Demonstrator: Emma"
   ]
  },
  {
   "cell_type": "code",
   "execution_count": 13,
   "metadata": {},
   "outputs": [],
   "source": [
    "import pandas as pd\n",
    "import numpy as np\n",
    "from matplotlib import pyplot as plt\n",
    "import os"
   ]
  },
  {
   "cell_type": "code",
   "execution_count": 14,
   "metadata": {},
   "outputs": [
    {
     "data": {
      "text/html": [
       "<div>\n",
       "<style scoped>\n",
       "    .dataframe tbody tr th:only-of-type {\n",
       "        vertical-align: middle;\n",
       "    }\n",
       "\n",
       "    .dataframe tbody tr th {\n",
       "        vertical-align: top;\n",
       "    }\n",
       "\n",
       "    .dataframe thead th {\n",
       "        text-align: right;\n",
       "    }\n",
       "</style>\n",
       "<table border=\"1\" class=\"dataframe\">\n",
       "  <thead>\n",
       "    <tr style=\"text-align: right;\">\n",
       "      <th></th>\n",
       "      <th>current_A</th>\n",
       "      <th>voltage_uV</th>\n",
       "      <th>time_s</th>\n",
       "    </tr>\n",
       "  </thead>\n",
       "  <tbody>\n",
       "    <tr>\n",
       "      <th>0</th>\n",
       "      <td>0.002252</td>\n",
       "      <td>-0.772845</td>\n",
       "      <td>0.000</td>\n",
       "    </tr>\n",
       "    <tr>\n",
       "      <th>1</th>\n",
       "      <td>0.002388</td>\n",
       "      <td>-0.769311</td>\n",
       "      <td>0.046</td>\n",
       "    </tr>\n",
       "    <tr>\n",
       "      <th>2</th>\n",
       "      <td>0.002741</td>\n",
       "      <td>-0.761247</td>\n",
       "      <td>0.092</td>\n",
       "    </tr>\n",
       "    <tr>\n",
       "      <th>3</th>\n",
       "      <td>0.002574</td>\n",
       "      <td>-0.745235</td>\n",
       "      <td>0.139</td>\n",
       "    </tr>\n",
       "    <tr>\n",
       "      <th>4</th>\n",
       "      <td>0.002520</td>\n",
       "      <td>-0.741827</td>\n",
       "      <td>0.185</td>\n",
       "    </tr>\n",
       "    <tr>\n",
       "      <th>...</th>\n",
       "      <td>...</td>\n",
       "      <td>...</td>\n",
       "      <td>...</td>\n",
       "    </tr>\n",
       "    <tr>\n",
       "      <th>874</th>\n",
       "      <td>37.112894</td>\n",
       "      <td>46.353972</td>\n",
       "      <td>56.388</td>\n",
       "    </tr>\n",
       "    <tr>\n",
       "      <th>875</th>\n",
       "      <td>37.143997</td>\n",
       "      <td>46.651341</td>\n",
       "      <td>56.434</td>\n",
       "    </tr>\n",
       "    <tr>\n",
       "      <th>876</th>\n",
       "      <td>37.174254</td>\n",
       "      <td>46.942966</td>\n",
       "      <td>56.480</td>\n",
       "    </tr>\n",
       "    <tr>\n",
       "      <th>877</th>\n",
       "      <td>37.205899</td>\n",
       "      <td>47.221457</td>\n",
       "      <td>56.526</td>\n",
       "    </tr>\n",
       "    <tr>\n",
       "      <th>878</th>\n",
       "      <td>37.680244</td>\n",
       "      <td>49.655491</td>\n",
       "      <td>56.572</td>\n",
       "    </tr>\n",
       "  </tbody>\n",
       "</table>\n",
       "<p>879 rows × 3 columns</p>\n",
       "</div>"
      ],
      "text/plain": [
       "     current_A  voltage_uV  time_s\n",
       "0     0.002252   -0.772845   0.000\n",
       "1     0.002388   -0.769311   0.046\n",
       "2     0.002741   -0.761247   0.092\n",
       "3     0.002574   -0.745235   0.139\n",
       "4     0.002520   -0.741827   0.185\n",
       "..         ...         ...     ...\n",
       "874  37.112894   46.353972  56.388\n",
       "875  37.143997   46.651341  56.434\n",
       "876  37.174254   46.942966  56.480\n",
       "877  37.205899   47.221457  56.526\n",
       "878  37.680244   49.655491  56.572\n",
       "\n",
       "[879 rows x 3 columns]"
      ]
     },
     "execution_count": 14,
     "metadata": {},
     "output_type": "execute_result"
    }
   ],
   "source": [
    "filename = 'data/theta0/Measurement_1_0.50_Field_0_Angle.csv'\n",
    "\n",
    "df = pd.read_csv(filename, skiprows=11, names=['current_A','voltage_uV','time_s'], sep='\\\\s+')\n",
    "df"
   ]
  },
  {
   "cell_type": "markdown",
   "metadata": {},
   "source": [
    "Extracting metadata by reading the file - temperature, angle and magnetic field."
   ]
  },
  {
   "cell_type": "code",
   "execution_count": 15,
   "metadata": {},
   "outputs": [
    {
     "name": "stdout",
     "output_type": "stream",
     "text": [
      "T=77.0, Angle=0.0, Field=0.5\n"
     ]
    }
   ],
   "source": [
    "# Step 1: Open the file and read lines manually\n",
    "f = open(filename)\n",
    "text = f.readlines()\n",
    "\n",
    "# Step 2: Extract metadata, ignoring blank lines\n",
    "def extract_value(lines, key):\n",
    "    \"\"\"Helper function to extract the value for a given key.\"\"\"\n",
    "    for line in lines:\n",
    "        if key in line:\n",
    "            return float(line.split('\\t')[1].strip())  # Extract the value after tab\n",
    "\n",
    "temperature = extract_value(text, \"Temperature (K)\")\n",
    "angle = extract_value(text, \"Angle (deg.)\")\n",
    "field = extract_value(text, \"field / T\")\n",
    "print(f'T={temperature}, Angle={angle}, Field={field}')"
   ]
  },
  {
   "cell_type": "markdown",
   "metadata": {},
   "source": [
    "Quick Plot of Voltage (uV) vs Current (A): "
   ]
  },
  {
   "cell_type": "code",
   "execution_count": 16,
   "metadata": {},
   "outputs": [
    {
     "data": {
      "text/plain": [
       "[<matplotlib.lines.Line2D at 0x232daf011d0>]"
      ]
     },
     "execution_count": 16,
     "metadata": {},
     "output_type": "execute_result"
    },
    {
     "data": {
      "image/png": "[encoded data removed]",
      "text/plain": [
       "<Figure size 640x480 with 1 Axes>"
      ]
     },
     "metadata": {},
     "output_type": "display_data"
    }
   ],
   "source": [
    "plt.plot(df['current_A'],df['voltage_uV'])"
   ]
  },
  {
   "cell_type": "markdown",
   "metadata": {},
   "source": [
    "To find the critical current $I_C$, we read off the graph where we have an electric field E=100 uV/m. The distance between our voltage points on the sample is 0.8 cm. Therefore the voltage where this occurs is E*m = 100 uV/m * 0.008 m = 0.8 uV.\n",
    "\n",
    "After speaking to demonstrator, we chose an electric field of 2000 uV/m instead which corresponds to a voltage V = 20 uV."
   ]
  },
  {
   "cell_type": "code",
   "execution_count": 17,
   "metadata": {},
   "outputs": [
    {
     "data": {
      "text/plain": [
       "<matplotlib.lines.Line2D at 0x232db04dd10>"
      ]
     },
     "execution_count": 17,
     "metadata": {},
     "output_type": "execute_result"
    },
    {
     "data": {
      "image/png": "[encoded data removed]",
      "text/plain": [
       "<Figure size 640x480 with 1 Axes>"
      ]
     },
     "metadata": {},
     "output_type": "display_data"
    }
   ],
   "source": [
    "fig, ax = plt.subplots()\n",
    "ax.plot(df['current_A'],df['voltage_uV'])\n",
    "ax.axhline(20, c=\"black\", ls=\"--\")"
   ]
  },
  {
   "cell_type": "code",
   "execution_count": 18,
   "metadata": {},
   "outputs": [
    {
     "data": {
      "text/plain": [
       "793"
      ]
     },
     "execution_count": 18,
     "metadata": {},
     "output_type": "execute_result"
    }
   ],
   "source": [
    "(df['voltage_uV'] - 20).abs().idxmin()"
   ]
  },
  {
   "cell_type": "code",
   "execution_count": 19,
   "metadata": {},
   "outputs": [],
   "source": [
    "I_c = df.loc[(df['voltage_uV'] - 20).abs().idxmin()]['current_A']"
   ]
  },
  {
   "cell_type": "markdown",
   "metadata": {},
   "source": [
    "Now we have the code, we will now iterate through all the data files."
   ]
  },
  {
   "cell_type": "code",
   "execution_count": 30,
   "metadata": {},
   "outputs": [
    {
     "name": "stdout",
     "output_type": "stream",
     "text": [
      "0.0 0.0\n",
      "0.0 0.02\n",
      "0.0 0.04\n",
      "0.0 0.05\n",
      "0.0 0.08\n",
      "0.0 0.1\n",
      "0.0 0.2\n",
      "0.0 0.3\n",
      "0.0 0.4\n",
      "0.0 0.5\n"
     ]
    }
   ],
   "source": [
    "# Iterate through files in specified directory #\n",
    "directory = 'data/theta0/'\n",
    "rows = []\n",
    "for filename in os.listdir(directory):\n",
    "    try:\n",
    "        file_string = os.path.join(directory, filename).replace('\\\\','/')   # example string: 'data/P1_B1_Idefault_Ndefault.mat'\n",
    "        df = pd.read_csv(file_string, skiprows=11, names=['current_A','voltage_uV','time_s'], sep='\\\\s+')\n",
    "\n",
    "    except:\n",
    "        print(f\"Error: Cannot load {file_string}.\")\n",
    "    file_string.split()\n",
    "\n",
    "    # Extract metadata\n",
    "    f = open(file_string)\n",
    "    text = f.readlines()\n",
    "    def extract_value(lines, key):\n",
    "        \"\"\"Helper function to extract the value for a given key.\"\"\"\n",
    "        for line in lines:\n",
    "            if key in line:\n",
    "                return float(line.split('\\t')[1].strip())  # Extract the value after tab\n",
    "    temperature = extract_value(text, \"Temperature (K)\")\n",
    "    angle = extract_value(text, \"Angle (deg.)\")\n",
    "    field = extract_value(text, \"field / T\")\n",
    "    I_c = df.loc[(df['voltage_uV'] - 20).abs().idxmin()]['current_A']\n",
    "\n",
    "    row = [angle,field,I_c]\n",
    "\n",
    "    rows.append(row)\n",
    "\n",
    "columns=['angle','field','I_c']\n",
    "df_Ic_0 = pd.DataFrame(rows, columns=columns)\n",
    "\n",
    "fig, ax = plt.subplots()\n",
    "ax.plot(df_Ic_0['field'], df_Ic_0['I_c'])\n",
    "ax.set_xlabel(\"Magnetic Field (T)\")\n",
    "ax.set_ylabel(\"Critical Current (A)\")\n",
    "plt.loglog()\n",
    "plt.plot()"
   ]
  },
  {
   "cell_type": "code",
   "execution_count": 25,
   "metadata": {},
   "outputs": [],
   "source": [
    "# Iterate through files in specified directory #\n",
    "directory = 'data/theta45'\n",
    "rows = []\n",
    "for filename in os.listdir(directory):\n",
    "    try:\n",
    "        file_string = os.path.join(directory, filename).replace('\\\\','/')   # example string: 'data/P1_B1_Idefault_Ndefault.mat'\n",
    "        df = pd.read_csv(file_string, skiprows=11, names=['current_A','voltage_uV','time_s'], sep='\\\\s+')\n",
    "\n",
    "    except:\n",
    "        print(f\"Error: {file_string} is probably corrupted or you have incorrectly entered directory.\")\n",
    "\n",
    "\n",
    "    # Extract metadata\n",
    "    f = open(file_string)\n",
    "    text = f.readlines()\n",
    "    def extract_value(lines, key):\n",
    "        \"\"\"Helper function to extract the value for a given key.\"\"\"\n",
    "        for line in lines:\n",
    "            if key in line:\n",
    "                return float(line.split('\\t')[1].strip())  # Extract the value after tab\n",
    "    temperature = extract_value(text, \"Temperature (K)\")\n",
    "    angle = extract_value(text, \"Angle (deg.)\")\n",
    "    field = extract_value(text, \"field / T\")\n",
    "    I_c = df.loc[(df['voltage_uV'] - 20).abs().idxmin()]['current_A']\n",
    "\n",
    "    row = [angle,field,I_c]\n",
    "\n",
    "    rows.append(row)\n",
    "\n",
    "columns=['angle','field','I_c']\n",
    "df_Ic_45 = pd.DataFrame(rows, columns=columns)\n"
   ]
  },
  {
   "cell_type": "code",
   "execution_count": null,
   "metadata": {},
   "outputs": [
    {
     "data": {
      "text/plain": [
       "[]"
      ]
     },
     "execution_count": 26,
     "metadata": {},
     "output_type": "execute_result"
    },
    {
     "data": {
      "image/png": "[encoded data removed]",
      "text/plain": [
       "<Figure size 640x480 with 1 Axes>"
      ]
     },
     "metadata": {},
     "output_type": "display_data"
    }
   ],
   "source": [
    "fig, ax = plt.subplots()\n",
    "ax.plot(df_Ic_0['field'], df_Ic_0['I_c'], label=\"Theta = 0\")\n",
    "ax.plot(df_Ic_45['field'], df_Ic_45['I_c'], label=\"Theta = 45\")\n",
    "ax.set_xlabel(\"Magnetic Field (T)\")\n",
    "ax.set_ylabel(\"Critical Current (A)\")\n",
    "plt.legend()\n",
    "plt.loglog()\n",
    "plt.plot()"
   ]
  },
  {
   "cell_type": "code",
   "execution_count": null,
   "metadata": {},
   "outputs": [],
   "source": []
  }
 ],
 "metadata": {
  "kernelspec": {
   "display_name": ".venv",
   "language": "python",
   "name": "python3"
  },
  "language_info": {
   "codemirror_mode": {
    "name": "ipython",
    "version": 3
   },
   "file_extension": ".py",
   "mimetype": "text/x-python",
   "name": "python",
   "nbconvert_exporter": "python",
   "pygments_lexer": "ipython3",
   "version": "3.13.1"
  }
 },
 "nbformat": 4,
 "nbformat_minor": 2
}
